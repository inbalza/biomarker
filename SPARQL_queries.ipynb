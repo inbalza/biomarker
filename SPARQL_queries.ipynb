{
 "cells": [
  {
   "cell_type": "markdown",
   "metadata": {},
   "source": [
    "## Using the biomarker semantic model - SPARQL queries\n",
    "### Queries are shown as an example for solving different research questions regarding biomarkers"
   ]
  },
  {
   "cell_type": "code",
   "execution_count": 1,
   "metadata": {},
   "outputs": [
    {
     "name": "stderr",
     "output_type": "stream",
     "text": [
      "* Owlready2 * Warning: optimized Cython parser module 'owlready2_optimized' is not available, defaulting to slower Python implementation\n"
     ]
    }
   ],
   "source": [
    "from owlready2 import *"
   ]
  },
  {
   "cell_type": "code",
   "execution_count": 2,
   "metadata": {
    "scrolled": true
   },
   "outputs": [],
   "source": [
    "my_world = World()\n",
    "onto = my_world.get_ontology(\"bm_db.owl\").load()\n",
    "graph = my_world.as_rdflib_graph()"
   ]
  },
  {
   "cell_type": "markdown",
   "metadata": {},
   "source": [
    "### Biomarkers of cardiovascular system disease"
   ]
  },
  {
   "cell_type": "code",
   "execution_count": 108,
   "metadata": {},
   "outputs": [
    {
     "name": "stdout",
     "output_type": "stream",
     "text": [
      "Usage: DiagnosticBM\tSource:Urine\tId:upbd_1552\tName:IgM-uria\n",
      "Usage: DiagnosticBM\tSource:Urine\tId:upbd_1553\tName:Angiotensin-(1–7)\n"
     ]
    }
   ],
   "source": [
    "bm_list = list(graph.query(\"\"\"\n",
    "PREFIX bmo: <file://D:/ontoforce/model/bm_model.owl#>\n",
    "\n",
    "SELECT ?label  ?usage ?source ?bm WHERE {\n",
    "  ?bm rdf:type ?usage .\n",
    "  ?usage rdfs:subClassOf bmo:BiomarkerUsage .\n",
    "  ?bm bmo:indicatorOf <#http://purl.obolibrary.org/obo/DOID_1287> .\n",
    "  ?bm bmo:measuredIn ?source_id .\n",
    "  ?source_id rdfs:label ?source .\n",
    "  ?bm rdfs:label ?label .\n",
    "}\"\"\"))\n",
    "for bm in bm_list: \n",
    "  print('Usage: {}\\tSource:{}\\tId:{}\\tName:{}'.format(str(bm[1]).split('#')[1],str(bm[2]),str(bm[3]).split('#')[1],str(bm[0])))"
   ]
  },
  {
   "cell_type": "markdown",
   "metadata": {},
   "source": [
    "### Non-invasive, diagnostic biomarkers for breast cancer\n",
    "(measured in saliva, urine or feces)\n"
   ]
  },
  {
   "cell_type": "code",
   "execution_count": 103,
   "metadata": {
    "scrolled": true
   },
   "outputs": [
    {
     "name": "stdout",
     "output_type": "stream",
     "text": [
      "Name:Leucine LRC36\n",
      "Name:MAST4\n",
      "Name:Uncharacterized protein CI131\n",
      "Name:DYH8\n",
      "Name:AGRIN,\n",
      "Name:ECM1\n",
      "Name:HBA,\n",
      "Name:PEPA\n",
      "Name:Filaggrin\n",
      "Name:MMRN2\n",
      "Name:NEGR1,\n"
     ]
    }
   ],
   "source": [
    "bm_list = list(graph.query(\"\"\"\n",
    "PREFIX bmo: <file://D:/ontoforce/model/bm_model.owl#>\n",
    "\n",
    "SELECT ?label WHERE {\n",
    "  ?bm rdf:type bmo:DiagnosticBM .\n",
    "  ?bm rdfs:label ?label .\n",
    "  ?bm bmo:indicatorOf <#http://purl.obolibrary.org/obo/DOID_1612> .\n",
    "  { ?bm bmo:measuredIn bmo:UBERON_0000178 }\n",
    "  UNION\n",
    "  { ?bm bmo:measuredIn bmo:UBERON_0001088 } \n",
    "  UNION\n",
    "  { ?bm bmo:measuredIn bmo:UBERON_0001988 } .\n",
    "}\"\"\"))\n",
    "for bm in bm_list: print(\"Name:{}\".format(bm[0]))"
   ]
  },
  {
   "cell_type": "markdown",
   "metadata": {},
   "source": [
    "### Diagnostic biomarkers for colorectral cancer in clinical use"
   ]
  },
  {
   "cell_type": "code",
   "execution_count": 3,
   "metadata": {},
   "outputs": [
    {
     "name": "stdout",
     "output_type": "stream",
     "text": [
      "Id:oncomx_24\tName:NDRG4,BMP3,KRAS,ACTB\n",
      "Id:oncomx_28\tName:MLH1,PMS2,MSH2,MSH6,BRAF\n"
     ]
    }
   ],
   "source": [
    "bm_list = list(graph.query(\"\"\"\n",
    "PREFIX bmo: <file://D:/ontoforce/model/bm_model.owl#>\n",
    "\n",
    "SELECT ?bm ?label ?diseaseID WHERE {\n",
    "  ?bm bmo:hasEvidenceLevel 'clinical use'.\n",
    "  ?bm rdfs:label ?label .\n",
    "  ?bm bmo:indicatorOf <#http://purl.obolibrary.org/obo/DOID_9256>.\n",
    "  ?bm rdf:type bmo:DiagnosticBM\n",
    "}\"\"\"))\n",
    "for bm in bm_list: print(\"Id:{}\\tName:{}\".format(str(bm[0]).split('#')[1],bm[1]))\n"
   ]
  },
  {
   "cell_type": "markdown",
   "metadata": {},
   "source": [
    "### Biomarkers related to BRCA1"
   ]
  },
  {
   "cell_type": "code",
   "execution_count": 8,
   "metadata": {},
   "outputs": [
    {
     "name": "stdout",
     "output_type": "stream",
     "text": [
      "Id:oncomx_22\tName:BRCA1,BRCA2\tDisease:breast cancer\tSource:Saliva\n",
      "Id:oncomx_25\tName:BRCA1,BRCA2\tDisease:ovarian cancer\tSource:Blood\n",
      "Id:oncomx_27\tName:BRCA1,BRCA2\tDisease:ovarian cancer\tSource:Tissue\n"
     ]
    }
   ],
   "source": [
    "bm_list = list(graph.query(\"\"\"\n",
    "PREFIX bmo: <file://D:/ontoforce/model/bm_model.owl#>\n",
    "\n",
    "SELECT ?bm ?label ?disease ?source WHERE {\n",
    "  ?bm rdfs:label ?label .\n",
    "  ?bm bmo:hasMolecularID ?id .\n",
    "  ?bm bmo:indicatorOf ?diseaseID .\n",
    "  ?bm bmo:measuredIn ?sourceID .\n",
    "  ?diseaseID rdfs:label ?disease .\n",
    "  ?sourceID rdfs:label ?source .\n",
    "  filter contains( ?id, \"BRCA1\") .\n",
    "} \n",
    "\"\"\"))\n",
    "for bm in bm_list: print(\"Id:{}\\tName:{}\\tDisease:{}\\tSource:{}\".format(str(bm[0]).split('#')[1],bm[1],bm[2],bm[3]))\n"
   ]
  }
 ],
 "metadata": {
  "kernelspec": {
   "display_name": "Python 3",
   "language": "python",
   "name": "python3"
  },
  "language_info": {
   "codemirror_mode": {
    "name": "ipython",
    "version": 3
   },
   "file_extension": ".py",
   "mimetype": "text/x-python",
   "name": "python",
   "nbconvert_exporter": "python",
   "pygments_lexer": "ipython3",
   "version": "3.7.4"
  }
 },
 "nbformat": 4,
 "nbformat_minor": 2
}
